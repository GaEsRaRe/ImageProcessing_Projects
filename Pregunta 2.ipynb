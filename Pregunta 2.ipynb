{
 "cells": [
  {
   "cell_type": "markdown",
   "metadata": {},
   "source": [
    "# Codigo de la Pregunta 2"
   ]
  },
  {
   "cell_type": "markdown",
   "metadata": {},
   "source": [
    "<b> Importante: Tener la imagen texto.jpg en la misma carpeta para poder ver los resultado, si usas otra imagen texto.jpg <br>\n",
    "    evita que la imagen sea muy larga para evitar stackoverflow <br><br><br>"
   ]
  },
  {
   "cell_type": "markdown",
   "metadata": {},
   "source": [
    "El ejercicio requeria de tener una imagen con palabras y encuadrar cada letra por separado.\n",
    "Para esto se requiere una serie de pasos a seguir:\n"
   ]
  },
  {
   "cell_type": "markdown",
   "metadata": {},
   "source": [
    "<ul>\n",
    "<li>Cargar la Imagen</li>\n",
    "<li>Convertir la Imagen a blanco y negro </li>\n",
    "<li>Encontrar los componentes conexos y etiquetarlos </li>\n",
    "<li>En base a cada componente conexo encontrar su Xminimo,Yminimo,Xmaximo,Ymaximo </li>\n",
    "<li>Mostrar el Resultado</li>\n",
    "</ul>"
   ]
  },
  {
   "cell_type": "markdown",
   "metadata": {},
   "source": [
    "## Importar las liberias"
   ]
  },
  {
   "cell_type": "markdown",
   "metadata": {},
   "source": [
    "Para poder ejecutar el codigo de manera correcta necesitamos una serie de librerias:\n",
    "<ul>\n",
    "<li> numpy(np) </li>\n",
    "<li> pyplot(plt) </li>\n",
    "<li> cv2 </li>\n",
    "<li> time </li>\n",
    "</ul>"
   ]
  },
  {
   "cell_type": "code",
   "execution_count": 3,
   "metadata": {
    "collapsed": true
   },
   "outputs": [],
   "source": [
    "import cv2\n",
    "import numpy as np\n",
    "from matplotlib import pyplot as plt \n",
    "import time"
   ]
  },
  {
   "cell_type": "markdown",
   "metadata": {},
   "source": [
    "## Cargar y mostrar imagenes"
   ]
  },
  {
   "cell_type": "markdown",
   "metadata": {},
   "source": [
    "Para mostrar las imagenes y luego de manera posterior mostrar el resultado se utiliza las siguientes funciones:"
   ]
  },
  {
   "cell_type": "code",
   "execution_count": 4,
   "metadata": {
    "collapsed": true
   },
   "outputs": [],
   "source": [
    "def cargar(direccion):\n",
    "    img = cv2.imread(direccion) #cargamos la imagen de la  direccion dada\n",
    "    img = cv2.cvtColor(img,cv2.COLOR_BGR2RGB) #convertimos la imagen de BGR a RGB\n",
    "    return img\n",
    "\n",
    "def show(imagen):\n",
    "    plt.imshow(imagen) #Cargamos la imagen en el plot\n",
    "    plt.show() #Mostramos el plot\n",
    "    pass"
   ]
  },
  {
   "cell_type": "markdown",
   "metadata": {},
   "source": [
    "Ademas, necesitamos trabajar con blanco y negro, por lo tanto creamos una funcion para poder convertirlo a gris, y luego aplicar un threshold"
   ]
  },
  {
   "cell_type": "code",
   "execution_count": 5,
   "metadata": {
    "collapsed": true
   },
   "outputs": [],
   "source": [
    "def gray(image): #Convierte a Gris\n",
    "    img = np.copy(image)\n",
    "    img = cv2.cvtColor(img,cv2.COLOR_RGB2GRAY)\n",
    "    return img\n",
    "\n",
    "def binary(image): #Aplica un treshold\n",
    "    img = np.copy(image)\n",
    "    sx,sy = np.size(img,0),np.size(img,1)\n",
    "    for n in range(0,sx):\n",
    "        for m in range(0,sy):\n",
    "            if img[n][m] > 128:\n",
    "                img[n][m] = 255\n",
    "            else:\n",
    "                img[n][m] = 0\n",
    "    return img\n"
   ]
  },
  {
   "cell_type": "markdown",
   "metadata": {},
   "source": [
    "Por otro lado, esta imagen no sera representada adecuandamente con el codigo de show(), por lo tanto, se utilizara la funcion back_gray()"
   ]
  },
  {
   "cell_type": "code",
   "execution_count": 6,
   "metadata": {
    "collapsed": true
   },
   "outputs": [],
   "source": [
    "def back_gray(image):\n",
    "    img = np.copy(image)\n",
    "    img = cv2.cvtColor(img,cv2.COLOR_GRAY2RGB)\n",
    "    return img"
   ]
  },
  {
   "cell_type": "markdown",
   "metadata": {},
   "source": [
    "## Recursividad y etiquetado"
   ]
  },
  {
   "cell_type": "markdown",
   "metadata": {},
   "source": [
    "Al recorrer la matriz de la imagen blanco y negro, una vez encontrado un punto de color negro se empieza a etiquetar toda la imagen, por ventaja para el trabajo, el llenado tambien obtiene un arreglo el cual agrega cada uno de los puntos de la imagen"
   ]
  },
  {
   "cell_type": "code",
   "execution_count": 7,
   "metadata": {
    "collapsed": true
   },
   "outputs": [],
   "source": [
    "def recorrer(mat,x,y,ar):\n",
    "    go = False\n",
    "    if(mat[x][y] == 0):\n",
    "        go = True\n",
    "        ar.append([x,y])\n",
    "    mat[x][y] = 155\n",
    "    if(go):\n",
    "        recorrer(mat,x+1,y,ar)\n",
    "        recorrer(mat,x,y-1,ar)\n",
    "        recorrer(mat,x,y+1,ar)\n",
    "        recorrer(mat,x-1,y,ar)\n",
    "        recorrer(mat,x+1,y-1,ar)\n",
    "        recorrer(mat,x+1,y+1,ar)\n",
    "        recorrer(mat,x-1,y+1,ar)\n",
    "        recorrer(mat,x-1,y-1,ar)\n",
    "    return "
   ]
  },
  {
   "cell_type": "markdown",
   "metadata": {},
   "source": [
    "## Xmin,Xmax,Ymin,Ymax"
   ]
  },
  {
   "cell_type": "markdown",
   "metadata": {},
   "source": [
    "Ahora luego usando la matriz optenida anteriormente, encontramos los extremos de la letra, y le añadimos uno para que sea los bordes del mismo"
   ]
  },
  {
   "cell_type": "code",
   "execution_count": 8,
   "metadata": {
    "collapsed": true
   },
   "outputs": [],
   "source": [
    "def get_pos(ar): #Se entrega como dato el arreglo\n",
    "    s = np.size(ar,0)\n",
    "    xmax,ymax,xmin,ymin = ar[0][0],ar[0][1],ar[0][0],ar[0][1] #Inicializamos los valores\n",
    "    for i in range(0,s):\n",
    "        xmax = max(xmax,ar[i][0])\n",
    "        ymax = max(ymax,ar[i][1])\n",
    "        xmin = min(xmin,ar[i][0])\n",
    "        ymin = min(ymin,ar[i][1])\n",
    "    return [xmin,ymin,xmax,ymax] #Retornamos los valores\n",
    "\n",
    "##----Existia un metodo más facil, pero por el tiempo no lo use ----##"
   ]
  },
  {
   "cell_type": "markdown",
   "metadata": {},
   "source": [
    "## Pintado de bordes "
   ]
  },
  {
   "cell_type": "markdown",
   "metadata": {},
   "source": [
    " Una vez obtenido los bordes de la letras, estas se pintan en la imagen(la cual se recibe como parametro):"
   ]
  },
  {
   "cell_type": "code",
   "execution_count": 9,
   "metadata": {
    "collapsed": true
   },
   "outputs": [],
   "source": [
    "def pintar(img,ar): #Recibe la imagen y los datos de ar = [xmin,ymin,xmax,ymax]\n",
    "    for i in range(ar[1],ar[3]):\n",
    "        img[ar[0]][i] = 10\n",
    "        img[ar[2]][i] = 10\n",
    "    for i in range(ar[0],ar[2]):\n",
    "        img[i][ar[1]] = 10\n",
    "        img[i][ar[3]] = 10\n",
    "    return img"
   ]
  },
  {
   "cell_type": "markdown",
   "metadata": {},
   "source": [
    "## Recorrer la imagen y entregar la matriz de posiciones:"
   ]
  },
  {
   "cell_type": "markdown",
   "metadata": {},
   "source": [
    "El codigo anterior funciona para una letra, ahora aplicamos este codigo en <b> un FOR </b> para que se realize a lo largo de la imagen:"
   ]
  },
  {
   "cell_type": "code",
   "execution_count": 1,
   "metadata": {
    "collapsed": true
   },
   "outputs": [],
   "source": [
    "def recorrer2(image):\n",
    "    img = np.copy(image) #genera una copia\n",
    "    sx,sy = np.size(img,0),np.size(img,1) #Agarra el tamaño de la imagen\n",
    "    cubs = [] #Matriz de direcciones\n",
    "    ar = [] #Matriz temporal para cuardar todos los puntos de una misma palabra\n",
    "    for m in range(0,sx):\n",
    "        for n in range(0,sy):\n",
    "            ar = []\n",
    "            if img[m][n] == 0:\n",
    "                recorrer(img,m,n,ar)\n",
    "                cubs.append(get_pos(ar))\n",
    "    return cubs #Retorna un arreglo de posiciones"
   ]
  },
  {
   "cell_type": "markdown",
   "metadata": {},
   "source": [
    "## Codigo Finalizado"
   ]
  },
  {
   "cell_type": "markdown",
   "metadata": {},
   "source": [
    "Una vez concluida todas las funciones, es momento de probar el codigo y ver los resultados, para esto se creo la funcion testing():"
   ]
  },
  {
   "cell_type": "code",
   "execution_count": 23,
   "metadata": {
    "collapsed": true
   },
   "outputs": [],
   "source": [
    "def testing():\n",
    "    text = cargar(\"text.jpg\") #Cambiar el string si se quiere otra imagen\n",
    "    btext = gray(text) #Escala de grises\n",
    "    btext = binary(btext) #Treshold\n",
    "    lala = recorrer2(btext) #Hallo los puntos\n",
    "    for i in range(0,np.size(lala,0)):\n",
    "        pintar(btext,lala[i]) #Pinto\n",
    "    btext = back_gray(btext) #Regreso a RGB para mostrar\n",
    "    show(btext) #Muestro\n",
    "    pass"
   ]
  },
  {
   "cell_type": "markdown",
   "metadata": {},
   "source": [
    "## Resultado "
   ]
  },
  {
   "cell_type": "markdown",
   "metadata": {},
   "source": [
    "Palabra sencilla:<br>"
   ]
  },
  {
   "cell_type": "markdown",
   "metadata": {},
   "source": [
    "![title](holi2.jpg)"
   ]
  },
  {
   "cell_type": "markdown",
   "metadata": {},
   "source": [
    "Un monton de palabras: <br>![title](holi.jpg) <br>\n",
    "<b>No se nota bien por cuestion de resolucion>/b>"
   ]
  },
  {
   "cell_type": "markdown",
   "metadata": {},
   "source": [
    "Para correr el codigo solo ejecute la linea de abajo:"
   ]
  },
  {
   "cell_type": "code",
   "execution_count": 21,
   "metadata": {},
   "outputs": [
    {
     "data": {
      "image/png": "[encoded data removed]",
      "text/plain": [
       "<matplotlib.figure.Figure at 0x19b8fe4a518>"
      ]
     },
     "metadata": {},
     "output_type": "display_data"
    }
   ],
   "source": [
    "testing()"
   ]
  }
 ],
 "metadata": {
  "kernelspec": {
   "display_name": "Python 3",
   "language": "python",
   "name": "python3"
  },
  "language_info": {
   "codemirror_mode": {
    "name": "ipython",
    "version": 3
   },
   "file_extension": ".py",
   "mimetype": "text/x-python",
   "name": "python",
   "nbconvert_exporter": "python",
   "pygments_lexer": "ipython3",
   "version": "3.6.1"
  }
 },
 "nbformat": 4,
 "nbformat_minor": 2
}
